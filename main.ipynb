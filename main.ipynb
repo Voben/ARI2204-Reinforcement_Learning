{
 "cells": [
  {
   "cell_type": "code",
   "execution_count": 1,
   "metadata": {},
   "outputs": [],
   "source": [
    "import random"
   ]
  },
  {
   "cell_type": "code",
   "execution_count": 3,
   "metadata": {},
   "outputs": [],
   "source": [
    "# Key Encoding:\n",
    "# Total-AceAs11-Action\n",
    "# (Total of Cards)-(0:No, 1:Yes)-(0:Stand, 1:Hit)\n",
    "\n",
    "# Dict Value:\n",
    "# [Counts, Probability]\n",
    "class stateActionVal:\n",
    "    def __init__(self):\n",
    "        self.counts = {}\n",
    "        for total in range(12, 21):\n",
    "            key = str(total) + '-0-0'\n",
    "            self.counts[key] = [0, 0]\n",
    "            key = str(total) + '-0-1'\n",
    "            self.counts[key] = [0, 0]\n",
    "            key = str(total) + '-1-0'\n",
    "            self.counts[key] = [0, 0]\n",
    "            key = str(total) + '-1-1'\n",
    "            self.counts[key] = [0, 0]\n",
    "\n",
    "    def incCount(self, key):\n",
    "        self.counts[key][0] += 1\n",
    "\n",
    "    def updProb(self, key, outcome):\n",
    "        self.counts[key][1] += outcome "
   ]
  },
  {
   "cell_type": "code",
   "execution_count": 2,
   "metadata": {},
   "outputs": [],
   "source": [
    "class player:\n",
    "    def __init__(self):\n",
    "        self.cards = []\n",
    "        self.total = 0\n",
    "        self.hasAce = False\n",
    "    \n",
    "    def addCard(self, card):\n",
    "        self.cards.append(card)\n",
    "        if(card.rank == \"J\" or card.rank == \"Q\" or card.rank == \"K\"):\n",
    "            self.total += 10\n",
    "        elif(card.rank == \"A\" and self.hasAce == False):\n",
    "            self.total += 11\n",
    "            self.hasAce = True\n",
    "        else:\n",
    "            if card.rank == 'A' and self.hasAce:\n",
    "                self.total += 1\n",
    "            else:\n",
    "                self.total += int(card.rank)\n",
    "    \n",
    "    def hit(self, myDeck):\n",
    "        self.addCard(myDeck.getRandomCard())\n",
    "    \n",
    "    \n",
    "    def clear(self):\n",
    "        self.cards = []\n",
    "        self.total = 0\n",
    "        self.hasAce = False"
   ]
  },
  {
   "cell_type": "code",
   "execution_count": 3,
   "metadata": {},
   "outputs": [],
   "source": [
    "class card:\n",
    "    def __init__(self, suit, rank):\n",
    "        self.suit = suit # ♧, ♢, ♥, ♤\n",
    "        self.rank = rank # 2, 3, 4, 5, 6, 7, 8, 9, 10, J, Q, K, A"
   ]
  },
  {
   "cell_type": "code",
   "execution_count": 4,
   "metadata": {},
   "outputs": [],
   "source": [
    "class deck:\n",
    "    def __init__(self):\n",
    "        self.cards = []\n",
    "        self.setDeck()\n",
    "        \n",
    "    def setDeck(self):\n",
    "        suits = [\"♧\", \"♢\", \"♥\", \"♤\"]\n",
    "        ranks = [2, 3, 4, 5, 6, 7, 8, 9, 10, \"J\", \"Q\", \"K\", \"A\"]\n",
    "\n",
    "        for suit in suits:\n",
    "            for rank in ranks:\n",
    "                self.cards.append(card(suit, rank))  \n",
    "    \n",
    "    def printDeck(self):\n",
    "        for card in self.cards:\n",
    "            print(card.rank, card.suit)\n",
    "    \n",
    "    def shuffle(self):\n",
    "        random.shuffle(self.cards)\n",
    "\n",
    "    def getRandomCard(self):\n",
    "        del self.cards[0]\n",
    "        return self.cards[0]"
   ]
  },
  {
   "cell_type": "code",
   "execution_count": 20,
   "metadata": {},
   "outputs": [],
   "source": [
    "class blackJackRound:\n",
    "    def __init__(self, deck, player, dealer):\n",
    "        self.player = player\n",
    "        self.dealer = dealer\n",
    "        self.deck = deck\n",
    "        self.newRound()\n",
    "        \n",
    "    \n",
    "    def newRound(self):\n",
    "        self.player.clear()\n",
    "        self.dealer.clear()\n",
    "        self.deck.setDeck()\n",
    "        self.deck.shuffle()\n",
    "        self.hitPlayerBool = True\n",
    "\n",
    "        self.player.hit(self.deck)\n",
    "        self.player.hit(self.deck)\n",
    "        self.dealer.hit(self.deck)\n",
    "    \n",
    "    def hitDealer(self):\n",
    "        if(self.player.total <= 21): \n",
    "            while(self.dealer.total < 17):\n",
    "                self.dealer.hit(self.deck)\n",
    "    \n",
    "    def hitPlayer(self):\n",
    "        while(self.hitPlayerBool):\n",
    "            if(self.player.total == 21):\n",
    "                self.hitPlayerBool = False\n",
    "            elif(self.player.total < 12):\n",
    "                #Ai go hererererere\n",
    "                self.player.hit(self.deck)\n",
    "            else:\n",
    "                self.hitPlayerBool = False\n",
    "    \n",
    "    def outcome(self):\n",
    "        print(\"Player: \", self.player.total)\n",
    "        print(\"Dealer: \", self.dealer.total)\n",
    "\n",
    "        if(self.player.total <= 21 and (self.player.total > self.dealer.total or self.dealer.total > 21)):\n",
    "            print(\"Player wins\")\n",
    "        elif(self.player.total == self.dealer.total):\n",
    "            print(\"Draw\")\n",
    "        else:\n",
    "            print(\"Dealer wins\")\n",
    "    \n",
    "    def playRound(self):\n",
    "        self.newRound()\n",
    "        self.hitPlayer()\n",
    "        self.hitDealer()\n",
    "        self.outcome()"
   ]
  },
  {
   "cell_type": "code",
   "execution_count": null,
   "metadata": {},
   "outputs": [],
   "source": [
    "class monteCarloControl:\n",
    "    def __init__(self):\n",
    "        self.tracker = stateActionVal()\n",
    "\n",
    "    def exec(self, numLoop):\n",
    "        for k in range((numLoop + 1)):\n",
    "            continue"
   ]
  },
  {
   "cell_type": "code",
   "execution_count": null,
   "metadata": {},
   "outputs": [],
   "source": [
    "class SARSA:\n",
    "    def __init__(self):\n",
    "        self.stateActionVal = stateActionVal()\n",
    "    \n",
    "    def training(self, numOfEps, player):\n",
    "        learningFactor = 0.1\n",
    "        discountFactor = 1\n",
    "\n",
    "        for k in range(1, numOfEps):\n",
    "            e = 1/k\n",
    "            sa = epsilonGreedy([player.total, player.hasAce], e, self.stateActionVal)\n",
    "            while player.total < 21:\n",
    "                # Execute action an state s\n",
    "                if sa[-1] == 1:\n",
    "                    player.hit()\n",
    "                else:\n",
    "                    self.stateActionVal[sa][0] += 1\n",
    "                    break\n",
    "                \n",
    "                # Get reward n form s`\n",
    "                if player.total < 22:\n",
    "                    n = 10 - (21 - player.total)\n",
    "                else:\n",
    "                    n = 21 - player.total\n",
    "\n",
    "                # Get next action a`\n",
    "                a = epsilonGreedy([player.total, player.hasAce], e, self.stateActionVal)\n",
    "\n",
    "                # Get Q(s`, a`) from table\n",
    "                saPrime = self.stateActionVal[a][1] # 0\n",
    "                \n",
    "                # update\n",
    "                self.stateActionVal[sa][0] += 1\n",
    "                self.stateActionVal[sa][1] = self.stateActionVal[sa][1] + learningFactor*(n + discountFactor*saPrime - self.stateActionVal[sa][1])\n",
    "\n",
    "                #seting new sa\n",
    "                sa = saPrime"
   ]
  },
  {
   "cell_type": "code",
   "execution_count": null,
   "metadata": {},
   "outputs": [],
   "source": [
    "def epsilonGreedy(state, epsilonVal, stateAcVal): #state will be and array [total, hasAce]\n",
    "        a1 = stateAcVal.counts[state[0]+\"-\"+state[1]+\"-0\"]\n",
    "        a2 = stateAcVal.counts[state[0]+\"-\"+state[1]+\"-1\"]\n",
    "\n",
    "        if a1[1] < a2[1]:\n",
    "            worseOption = state[0]+\"-\"+state[1]+\"-0\"\n",
    "            bestOption = state[0]+\"-\"+state[1]+\"-1\"\n",
    "        else:\n",
    "            worseOption = state[0]+\"-\"+state[1]+\"-1\"\n",
    "            bestOption = state[0]+\"-\"+state[1]+\"-0\"\n",
    "\n",
    "        if random.uniform(0, 1) < epsilonVal:\n",
    "            return worseOption\n",
    "        else:\n",
    "            return bestOption"
   ]
  },
  {
   "cell_type": "code",
   "execution_count": 6,
   "metadata": {},
   "outputs": [],
   "source": [
    "myDeck = deck()\n",
    "myPlayer = player()\n",
    "dealer = player()\n",
    "\n",
    "BJ = blackJackRound(myDeck, myPlayer, dealer)"
   ]
  },
  {
   "cell_type": "code",
   "execution_count": 23,
   "metadata": {},
   "outputs": [
    {
     "name": "stdout",
     "output_type": "stream",
     "text": [
      "Player:  21\n",
      "Dealer:  10\n",
      "Player wins\n"
     ]
    }
   ],
   "source": [
    "BJ.playRound()"
   ]
  },
  {
   "cell_type": "code",
   "execution_count": null,
   "metadata": {},
   "outputs": [],
   "source": [
    "\n",
    "        \n",
    "    "
   ]
  }
 ],
 "metadata": {
  "interpreter": {
   "hash": "40705e9542a8b496168c7de40fc20a1bf74806b2ae9ef80841c701ebaf97a414"
  },
  "kernelspec": {
   "display_name": "Python 3.9.12 64-bit (windows store)",
   "language": "python",
   "name": "python3"
  },
  "language_info": {
   "codemirror_mode": {
    "name": "ipython",
    "version": 3
   },
   "file_extension": ".py",
   "mimetype": "text/x-python",
   "name": "python",
   "nbconvert_exporter": "python",
   "pygments_lexer": "ipython3",
   "version": "3.9.12"
  },
  "orig_nbformat": 4
 },
 "nbformat": 4,
 "nbformat_minor": 2
}
