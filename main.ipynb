{
 "cells": [
  {
   "cell_type": "code",
   "execution_count": 161,
   "metadata": {},
   "outputs": [],
   "source": [
    "import random"
   ]
  },
  {
   "cell_type": "code",
   "execution_count": 162,
   "metadata": {},
   "outputs": [],
   "source": [
    "class player:\n",
    "    def __init__(self):\n",
    "        self.cards = []\n",
    "        self.total = 0\n",
    "        self.numOfAces = 0\n",
    "    \n",
    "    def addCard(self, card):\n",
    "        self.cards.append(card)\n",
    "        if(card.rank == \"J\" or card.rank == \"Q\" or card.rank == \"K\"):\n",
    "            self.total += 10\n",
    "        elif(card.rank == \"A\"):\n",
    "            self.total += 11\n",
    "            self.numOfAces += 1\n",
    "        else:\n",
    "            self.total += int(card.rank)\n",
    "    \n",
    "    def hit(self, myDeck):\n",
    "        self.addCard(myDeck.getRandomCard())\n",
    "    \n",
    "    \n",
    "    def clear(self):\n",
    "        self.cards = []\n",
    "        self.total = 0\n",
    "        self.numOfAces = 0"
   ]
  },
  {
   "cell_type": "code",
   "execution_count": 163,
   "metadata": {},
   "outputs": [],
   "source": [
    "class card:\n",
    "    def __init__(self, suit, rank):\n",
    "        self.suit = suit\n",
    "        self.rank = rank"
   ]
  },
  {
   "cell_type": "code",
   "execution_count": 174,
   "metadata": {},
   "outputs": [],
   "source": [
    "class deck:\n",
    "    def __init__(self):\n",
    "        self.cards = []\n",
    "        self.setDeck()\n",
    "        \n",
    "    def setDeck(self):\n",
    "        suits = [\"♧\", \"♢\", \"♥\", \"♤\"]\n",
    "        ranks = [2, 3, 4, 5, 6, 7, 8, 9, 10, \"J\", \"Q\", \"K\", \"A\"]\n",
    "\n",
    "        for suit in suits:\n",
    "            for rank in ranks:\n",
    "                self.cards.append(card(suit, rank))  \n",
    "    \n",
    "    def printDeck(self):\n",
    "        for card in self.cards:\n",
    "            print(card.rank, card.suit)\n",
    "    \n",
    "    def shuffle(self):\n",
    "        random.shuffle(self.cards)\n",
    "\n",
    "    def getRandomCard(self):\n",
    "        del self.cards[0]\n",
    "        return self.cards[0]"
   ]
  },
  {
   "cell_type": "code",
   "execution_count": 173,
   "metadata": {},
   "outputs": [],
   "source": [
    "class blackJackRound:\n",
    "    def __init__(self, deck, player, dealer):\n",
    "        self.player = player\n",
    "        self.dealer = dealer\n",
    "        self.deck = deck\n",
    "        self.newRound()\n",
    "        \n",
    "    \n",
    "    def newRound(self):\n",
    "        self.player.clear()\n",
    "        self.dealer.clear()\n",
    "        self.deck.setDeck()\n",
    "        self.deck.shuffle()\n",
    "        self.hitPlayerBool = True\n",
    "\n",
    "        self.player.hit(self.deck)\n",
    "        self.player.hit(self.deck)\n",
    "        self.dealer.hit(self.deck)\n",
    "    \n",
    "    def hitDealer(self):\n",
    "        if(self.player.total < 21): \n",
    "            while(self.dealer.total < 17):\n",
    "                self.dealer.hit(self.deck)\n",
    "    \n",
    "    def hitPlayer(self):\n",
    "        while(self.hitPlayerBool):\n",
    "            if(self.player.total == 21):\n",
    "                self.hitPlayerBool = False\n",
    "            elif(self.player.total < 12):\n",
    "                #Ai go hererererere\n",
    "                self.player.hit(self.deck)\n",
    "            else:\n",
    "                self.hitPlayerBool = False\n",
    "    \n",
    "    def outcome(self):\n",
    "        print(\"Player: \", self.player.total)\n",
    "        print(\"Dealer: \", self.dealer.total)\n",
    "\n",
    "        if(self.player.total <= 21 and (self.player.total > self.dealer.total or self.dealer.total > 21)):\n",
    "            print(\"Player wins\")\n",
    "        else:\n",
    "            print(\"Dealer wins\")\n",
    "    \n",
    "    def playRound(self):\n",
    "        self.newRound()\n",
    "        self.hitPlayer()\n",
    "        self.hitDealer()\n",
    "        self.outcome()"
   ]
  },
  {
   "cell_type": "code",
   "execution_count": 175,
   "metadata": {},
   "outputs": [],
   "source": [
    "myDeck = deck()\n",
    "myPlayer = player()\n",
    "dealer = player()\n",
    "\n",
    "BJ = blackJackRound(myDeck, myPlayer, dealer)"
   ]
  },
  {
   "cell_type": "code",
   "execution_count": 182,
   "metadata": {},
   "outputs": [
    {
     "name": "stdout",
     "output_type": "stream",
     "text": [
      "Player:  18\n",
      "Dealer:  21\n",
      "Dealer wins\n"
     ]
    }
   ],
   "source": [
    "BJ.playRound()"
   ]
  }
 ],
 "metadata": {
  "interpreter": {
   "hash": "40705e9542a8b496168c7de40fc20a1bf74806b2ae9ef80841c701ebaf97a414"
  },
  "kernelspec": {
   "display_name": "Python 3.9.12 64-bit (windows store)",
   "language": "python",
   "name": "python3"
  },
  "language_info": {
   "codemirror_mode": {
    "name": "ipython",
    "version": 3
   },
   "file_extension": ".py",
   "mimetype": "text/x-python",
   "name": "python",
   "nbconvert_exporter": "python",
   "pygments_lexer": "ipython3",
   "version": "3.9.12"
  },
  "orig_nbformat": 4
 },
 "nbformat": 4,
 "nbformat_minor": 2
}
